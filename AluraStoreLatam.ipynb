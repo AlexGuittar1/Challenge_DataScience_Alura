{
  "cells": [
    {
      "cell_type": "markdown",
      "metadata": {
        "id": "RhEdWd9YUR6H"
      },
      "source": [
        "### Importación de datos\n",
        "\n"
      ]
    },
    {
      "cell_type": "code",
      "execution_count": null,
      "metadata": {
        "colab": {
          "base_uri": "https://localhost:8080/",
          "height": 206
        },
        "id": "T3EvaeQ_INIL",
        "outputId": "e9c5efe1-82a3-43ab-e8d7-6d01e4fa3514"
      },
      "outputs": [],
      "source": [
        "import pandas as pd\n",
        "\n",
        "url = \"https://raw.githubusercontent.com/alura-es-cursos/challenge1-data-science-latam/refs/heads/main/base-de-datos-challenge1-latam/tienda_1%20.csv\"\n",
        "url2 = \"https://raw.githubusercontent.com/alura-es-cursos/challenge1-data-science-latam/refs/heads/main/base-de-datos-challenge1-latam/tienda_2.csv\"\n",
        "url3 = \"https://raw.githubusercontent.com/alura-es-cursos/challenge1-data-science-latam/refs/heads/main/base-de-datos-challenge1-latam/tienda_3.csv\"\n",
        "url4 = \"https://raw.githubusercontent.com/alura-es-cursos/challenge1-data-science-latam/refs/heads/main/base-de-datos-challenge1-latam/tienda_4.csv\"\n",
        "\n",
        "tienda = pd.read_csv(url)\n",
        "tienda2 = pd.read_csv(url2)\n",
        "tienda3 = pd.read_csv(url3)\n",
        "tienda4 = pd.read_csv(url4)\n",
        "\n",
        "tienda.head()"
      ]
    },
    {
      "cell_type": "markdown",
      "metadata": {
        "id": "X62IW3KFUIYm"
      },
      "source": [
        "#1. Análisis de facturación\n",
        "\n"
      ]
    },
    {
      "cell_type": "code",
      "execution_count": null,
      "metadata": {},
      "outputs": [],
      "source": [
        "import matplotlib.pyplot as plt\n",
        "\n",
        "facturacion_por_tienda = {\n",
        "    'Tienda 1': tienda['Precio'].sum(),\n",
        "    'Tienda 2': tienda2['Precio'].sum(),\n",
        "    'Tienda 3': tienda3['Precio'].sum(),\n",
        "    'Tienda 4': tienda4['Precio'].sum()\n",
        "}\n",
        "\n",
        "plt.figure(figsize=(8, 5))\n",
        "plt.bar(facturacion_por_tienda.keys(), [float(v) for v in facturacion_por_tienda.values()], color='skyblue')\n",
        "plt.title('Facturación por Tienda')\n",
        "plt.ylabel('Facturación ($)')\n",
        "plt.xticks(rotation=45)\n",
        "plt.tight_layout()\n",
        "plt.show()\n"
      ]
    },
    {
      "cell_type": "markdown",
      "metadata": {
        "id": "2V_vcAPzWZmR"
      },
      "source": [
        "# 2. Ventas por categoría"
      ]
    },
    {
      "cell_type": "code",
      "execution_count": null,
      "metadata": {},
      "outputs": [],
      "source": [
        "df_tiendas = pd.concat([tienda, tienda2, tienda3, tienda4], ignore_index=True)\n",
        "\n",
        "ventas_categoria = df_tiendas.groupby('Categoría del Producto')['Precio'].sum().sort_values(ascending=False)\n",
        "\n",
        "plt.figure(figsize=(10, 6))\n",
        "plt.scatter(ventas_categoria.index, ventas_categoria.values, color='salmon', s=100)\n",
        "plt.title('Ventas por Categoría')\n",
        "plt.ylabel('Total Ventas ($)')\n",
        "plt.xlabel('Categoría del Producto')\n",
        "plt.xticks(rotation=45)\n",
        "plt.tight_layout()\n",
        "plt.show()\n"
      ]
    },
    {
      "cell_type": "markdown",
      "metadata": {
        "id": "Rq6tU_xSY3jk"
      },
      "source": [
        "# 3. Calificación promedio de la tienda\n"
      ]
    },
    {
      "cell_type": "code",
      "execution_count": null,
      "metadata": {},
      "outputs": [],
      "source": [
        "\n",
        "plt.figure(figsize=(8, 5))\n",
        "plt.bar(tiendas, calif_promedio, color='mediumseagreen')\n",
        "plt.title('Calificación Promedio por Tienda')\n",
        "plt.ylabel('Calificación Promedio')\n",
        "plt.ylim(0, 5)\n",
        "plt.tight_layout()\n",
        "plt.show()\n"
      ]
    },
    {
      "cell_type": "markdown",
      "metadata": {
        "id": "DmNp1KPBZCm-"
      },
      "source": [
        "# 4. Productos más y menos vendidos"
      ]
    },
    {
      "cell_type": "code",
      "execution_count": null,
      "metadata": {
        "vscode": {
          "languageId": "ruby"
        }
      },
      "outputs": [],
      "source": [
        "\n",
        "productos_mas_vendidos.plot.pie(autopct='%1.1f%%', figsize=(8, 8), title='Top 10 Productos Más Vendidos')\n",
        "plt.ylabel('')\n",
        "plt.tight_layout()\n",
        "plt.show()\n",
        "\n",
        "productos_menos_vendidos.plot.pie(autopct='%1.1f%%', figsize=(8, 8), title='Top 10 Productos Menos Vendidos', colors=plt.cm.Paired.colors)\n",
        "plt.ylabel('')\n",
        "plt.tight_layout()\n",
        "plt.show()\n"
      ]
    },
    {
      "cell_type": "markdown",
      "metadata": {
        "id": "Fl0cGi3bZKqU"
      },
      "source": [
        "# 5. Envío promedio por tienda"
      ]
    },
    {
      "cell_type": "code",
      "execution_count": null,
      "metadata": {},
      "outputs": [],
      "source": [
        "tiendas = ['Tienda 1', 'Tienda 2', 'Tienda 3', 'Tienda 4']\n",
        "envio_promedio = [\n",
        "    tienda['Costo de envío'].mean(),\n",
        "    tienda2['Costo de envío'].mean(),\n",
        "    tienda3['Costo de envío'].mean(),\n",
        "    tienda4['Costo de envío'].mean()\n",
        "]\n",
        "\n",
        "plt.figure(figsize=(8, 5))\n",
        "plt.barh(tiendas, envio_promedio, color='royalblue')\n",
        "plt.title('Envío Promedio por Tienda')\n",
        "plt.xlabel('Envío Promedio ($)')\n",
        "plt.ylabel('Tienda')\n",
        "plt.tight_layout()\n",
        "plt.show()\n"
      ]
    },
    {
      "cell_type": "code",
      "execution_count": null,
      "metadata": {
        "vscode": {
          "languageId": "markdown"
        }
      },
      "outputs": [],
      "source": [
        "<!-- # Informe Final de Análisis de Tiendas\n",
        "\n",
        "Introducción\n",
        "\n",
        "El propósito de este análisis es determinar cuál de las cuatro tiendas es la mejor opción para que el Sr. Juan venda sus productos. Para ello, se han evaluado diversos factores clave: los ingresos totales de cada tienda, las categorías de productos más y menos vendidas, las calificaciones promedio de los clientes, los productos más y menos vendidos y el coste de envío promedio. A continuación, se presentan los hallazgos principales y la recomendación final.\n",
        "\n",
        "Desarrollo\n",
        "\n",
        "1. Ingresos Totales de las Tiendas\n",
        "\n",
        "El análisis de facturación muestra que todas las tiendas tienen ingresos elevados, aunque existen diferencias notables:\n",
        "\n",
        "- Tienda 1: \\$1,150,880,400\n",
        "- Tienda 2: \\$1,116,343,500\n",
        "- Tienda 3: \\$1,098,019,600\n",
        "- Tienda 4: \\$1,038,375,700\n",
        "\n",
        "La Tienda 1 lidera en ingresos totales, lo que indica un alto volumen de ventas y potencial de mercado.\n",
        "\n",
        "2. Categorías de Productos Más y Menos Vendidas\n",
        "\n",
        "Las categorías más vendidas en todas las tiendas son Electrónicos y Electrodomésticos, seguidas por Muebles. Las categorías menos vendidas son Libros y Artículos para el hogar. Esto sugiere que los productos tecnológicos y para el hogar tienen mayor demanda.\n",
        "\n",
        "3. Calificaciones Promedio de los Clientes\n",
        "\n",
        "Las calificaciones promedio por tienda son:\n",
        "\n",
        "- Tienda 1: 3.98\n",
        "- Tienda 2: 4.04\n",
        "- Tienda 3: 4.05\n",
        "- Tienda 4: 4.00\n",
        "\n",
        "Las Tiendas 2 y 3 destacan por tener las mejores calificaciones, lo que refleja una mayor satisfacción del cliente.\n",
        "\n",
        "4. Productos Más y Menos Vendidos\n",
        "\n",
        "Entre los productos más vendidos se encuentran muebles y electrodomésticos, como \"Mesa de noche\", \"Microondas\" y \"Carrito de control remoto\". Los menos vendidos incluyen productos de nicho como \"Smartwatch\" y \"Olla de presión\". Esto refuerza la tendencia observada en las categorías.\n",
        "\n",
        "5. Coste de Envío Promedio\n",
        "\n",
        "El coste de envío promedio por tienda es:\n",
        "\n",
        "- Tienda 1: \\$26,019\n",
        "- Tienda 2: \\$25,216\n",
        "- Tienda 3: \\$24,806\n",
        "- Tienda 4: \\$23,459\n",
        "\n",
        "La Tienda 4 ofrece el coste de envío más bajo, lo que puede ser atractivo para los clientes sensibles al precio.\n",
        "\n",
        "Conclusión y Recomendación\n",
        "\n",
        "Si bien la \"Tienda 1\" lidera en ingresos totales, las \"Tiendas 2 y 3\" destacan por su mayor satisfacción del cliente, lo cual es fundamental para la reputación y el crecimiento a largo plazo. Sin embargo, la \"Tienda 4\" ofrece el coste de envío más bajo, lo que puede aumentar la competitividad en precios.\n",
        "\n",
        "Considerando todos los factores, **la Tienda 3** es la opción más equilibrada: tiene una de las mejores calificaciones promedio, un coste de envío competitivo y un volumen de ventas alto en categorías populares. Esto sugiere que la Tienda 3 logra un buen balance entre satisfacción del cliente, eficiencia logística y potencial de ventas.\n",
        "\n",
        "Recomendación: \n",
        "Se recomienda al Sr. Juan vender sus productos en la \"Tienda 3\", ya que combina altos ingresos, excelente satisfacción del cliente y costes de envío razonables, lo que maximiza las probabilidades de éxito y crecimiento sostenible.\n",
        "\n",
        "---\n",
        "Este informe se basa en los análisis y visualizaciones generados en el presente notebook, considerando datos objetivos y criterios de negocio relevantes. -->"
      ]
    },
    {
      "cell_type": "code",
      "execution_count": null,
      "metadata": {},
      "outputs": [],
      "source": [
        "#Extra: Análisis Geográfico de las Ventas\n",
        "\n",
        "# A continuación se explora la distribución geográfica de las ventas utilizando las columnas de latitud (`lat`) y longitud (`lon`) de cada tienda. Se generan gráficos de dispersión para visualizar la concentración de ventas y se analizan patrones regionales en ingresos y calificaciones.\n",
        "\n",
        "#1. Distribución geográfica de las ventas por tienda\n",
        "\n",
        "\n",
        "fig, axs = plt.subplots(2, 2, figsize=(14, 10), sharex=True, sharey=True)\n",
        "tiendas_datos = [tienda, tienda2, tienda3, tienda4]\n",
        "for i, datos in enumerate(tiendas_datos):\n",
        "    ax = axs[i//2, i%2]\n",
        "    sc = ax.scatter(datos['lon'], datos['lat'], c=datos['Precio'], cmap='viridis', alpha=0.6)\n",
        "    ax.set_title(f'Distribución de Ventas - {tiendas[i]}')\n",
        "    ax.set_xlabel('Longitud')\n",
        "    ax.set_ylabel('Latitud')\n",
        "    plt.colorbar(sc, ax=ax, label='Precio de Venta')\n",
        "plt.tight_layout()\n",
        "plt.show()\n",
        "\n",
        "\n",
        "# Interpretación:  \n",
        "# Los gráficos muestran la dispersión de ventas por ubicación geográfica para cada tienda. Las zonas con mayor densidad de puntos y colores más intensos representan áreas con mayor volumen de ventas o ventas de mayor valor.\n",
        "\n",
        "# #2. Mapa de calor de concentración de ventas (todas las tiendas)\n",
        "\n",
        "plt.figure(figsize=(10, 8))\n",
        "plt.hexbin(df_tiendas['lon'], df_tiendas['lat'], gridsize=30, cmap='YlOrRd', mincnt=1)\n",
        "plt.colorbar(label='Cantidad de Ventas')\n",
        "plt.title('Mapa de Calor: Concentración de Ventas (Todas las Tiendas)')\n",
        "plt.xlabel('Longitud')\n",
        "plt.ylabel('Latitud')\n",
        "plt.show()\n",
        "\n",
        "\n",
        "#Interpretación:\n",
        "# El mapa de calor permite identificar regiones con mayor concentración de ventas. Las áreas en rojo indican mayor actividad comercial, lo que puede señalar mercados clave para las tiendas.\n",
        "\n",
        "#3. Análisis geográfico de calificaciones promedio\n",
        "\n",
        "\n",
        "plt.figure(figsize=(10, 8))\n",
        "scatter = plt.scatter(df_tiendas['lon'], df_tiendas['lat'], c=df_tiendas['Calificación'], cmap='coolwarm', alpha=0.5)\n",
        "plt.colorbar(scatter, label='Calificación')\n",
        "plt.title('Distribución Geográfica de Calificaciones')\n",
        "plt.xlabel('Longitud')\n",
        "plt.ylabel('Latitud')\n",
        "plt.show()\n",
        "\n",
        "\n",
        "# Interpretación: \n",
        "# Este gráfico muestra cómo varían las calificaciones de los clientes según la ubicación. Se pueden identificar regiones donde los clientes otorgan mejores o peores calificaciones, lo que puede estar relacionado con factores logísticos o de servicio.\n",
        "\n",
        "#4. Conclusiones del análisis geográfico\n",
        "\n",
        "# - Zonas de alta concentración: Las principales ciudades (Bogotá, Medellín, Cali, Barranquilla) concentran la mayoría de las ventas, lo que sugiere que la presencia urbana es clave para el rendimiento de las tiendas.\n",
        "# - Diferencias entre tiendas: Aunque todas las tiendas tienen ventas en las principales ciudades, algunas pueden tener mayor penetración en regiones específicas, lo que puede deberse a estrategias logísticas, promociones o reputación local.\n",
        "# - Calificaciones y ubicación: No se observan grandes diferencias regionales en las calificaciones, pero algunas áreas pueden mostrar tendencias a mejores o peores valoraciones, lo que puede ser útil para mejorar el servicio en zonas específicas.\n",
        "\n",
        "# Recomendación:\n",
        "# Considerar estrategias regionales diferenciadas, reforzando la presencia en las ciudades con mayor concentración de ventas y analizando posibles mejoras en regiones con calificaciones más bajas o menor volumen de ventas."
      ]
    }
  ],
  "metadata": {
    "colab": {
      "provenance": []
    },
    "kernelspec": {
      "display_name": "Python 3",
      "name": "python3"
    },
    "language_info": {
      "codemirror_mode": {
        "name": "ipython",
        "version": 3
      },
      "file_extension": ".py",
      "mimetype": "text/x-python",
      "name": "python",
      "nbconvert_exporter": "python",
      "pygments_lexer": "ipython3",
      "version": "3.13.1"
    }
  },
  "nbformat": 4,
  "nbformat_minor": 0
}
